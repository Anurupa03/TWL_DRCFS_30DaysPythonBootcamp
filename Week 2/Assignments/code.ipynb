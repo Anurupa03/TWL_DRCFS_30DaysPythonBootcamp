{
 "cells": [
  {
   "cell_type": "markdown",
   "metadata": {},
   "source": [
    "### Feel free to add as much lines as you want between ## START CODE HERE and ## END CODE HERE.\n",
    "### Please donot write code outside this boundry or you may fail the test."
   ]
  },
  {
   "cell_type": "code",
   "execution_count": 32,
   "metadata": {},
   "outputs": [],
   "source": [
    "# start by importing the necessary documents\n",
    "\n",
    "import random\n",
    "import string "
   ]
  },
  {
   "cell_type": "markdown",
   "metadata": {},
   "source": [
    "The following are the requirements for POOR / MODERATE / STRONG password.\n",
    "\n",
    "Passwords can contain (not required) any of the following requirements:  \n",
    "i. Lower case letters (a – z).       &nbsp;&nbsp;   iii) Numbers ( 0 – 9 ).  \n",
    "ii. Upper case letters (A – Z).   &nbsp;&nbsp;   iv) Symbols ( ! + - = ? # % * @ & ^ $ _ )\n",
    "\n",
    "A POOR Password is defined as: \n",
    "\n",
    "a. Contains less than 3 from the above 4 items ( i – iv ).  \n",
    "b. Less than 8 characters in length.\n",
    "\n",
    "A MODERATE Password is defined as:  \n",
    "\n",
    "a. Contains 3 from the above 4 items ( i – iv )  \n",
    "b. Between 8 to 10 characters in length.\n",
    "\n",
    "A STRONG Password is defined as:  \n",
    "\n",
    "a. Meets all 4 of the above items ( i – iv )  \n",
    "b. Greater than 10 characters in length."
   ]
  },
  {
   "cell_type": "code",
   "execution_count": 68,
   "metadata": {},
   "outputs": [],
   "source": [
    "def rank(pwd: str) -> str:\n",
    "    '''\n",
    "    Ranker function that ranks the password based on the assigned criteria\n",
    "    Input: pwd -> character or string\n",
    "    Returns: rank -> rank of password; POOR / MODERATE / STRONG\n",
    "    '''\n",
    "    ## Start code here\n",
    "\n",
    "    STRONG = \"STRONG\"\n",
    "    MODERATE= \"MODERATE\"\n",
    "    POOR = \"POOR\"\n",
    "\n",
    "    lower_case = 0\n",
    "    upper_case = 0\n",
    "    contains_number = 0\n",
    "    contains_symbol = 0\n",
    "\n",
    "    symbols = (\"!\", \"+\", \"-\", \"=\", \"?\", \"#\", \"%\", \"*\", \"@\", \"&\", \"^\", \"$\", \"'\")\n",
    "    numbers = ('0','1','2','3','4','5','6','7','8','9')\n",
    "    rank=\"\"\n",
    "\n",
    "    length = \"\"\n",
    "\n",
    "    if len(pwd) > 10 :\n",
    "        length = \"S\"\n",
    "    elif len(pwd) > 8 and len(pwd) <= 10:\n",
    "        length = \"M\"\n",
    "    else:\n",
    "        length =\"P\"\n",
    "\n",
    "    for character in pwd:\n",
    "        if string.ascii_lowercase.__contains__(character):\n",
    "            lower_case =+ 1\n",
    "        if string.ascii_uppercase.__contains__(character):\n",
    "            upper_case =+ 1\n",
    "        if character in symbols:\n",
    "            contains_symbol =+ 1\n",
    "        if character in numbers:\n",
    "            contains_number =+ 1\n",
    "\n",
    "    print(lower_case)\n",
    "    print(upper_case)\n",
    "    print(contains_number)\n",
    "    print(contains_symbol)\n",
    "\n",
    "    if lower_case >= 1 and upper_case >= 1 and contains_symbol>=1 and contains_number >=1:\n",
    "        if length ==\"S\":\n",
    "            rank = STRONG\n",
    "        elif length == \"M\":\n",
    "            rank = MODERATE\n",
    "        else:\n",
    "            rank =POOR\n",
    "            \n",
    "    elif lower_case>= 1 and upper_case >=1 : # has lower case and upper case might contain symbol and number\n",
    "        if contains_symbol == 0 or contains_number == 0:\n",
    "            if length == \"M\":\n",
    "                rank = MODERATE\n",
    "            else:\n",
    "                rank = POOR\n",
    "    elif lower_case>= 1 and contains_symbol >=1 : # has lower case and upper case might contain symbol and number\n",
    "        if upper_case == 0 or contains_number == 0:\n",
    "            if length == \"M\":\n",
    "                rank = MODERATE\n",
    "            else:\n",
    "                rank = POOR\n",
    "    elif contains_symbol>= 1 and contains_number >=1 :  # has symbol and number might contain lower case and upper case\n",
    "        \n",
    "        if lower_case == 0 or upper_case == 0:\n",
    "            if length == \"M\":\n",
    "                rank = MODERATE\n",
    "            else:\n",
    "                rank = POOR\n",
    "    elif lower_case>= 1 and contains_number >=1 : # has lower case and number might contain symbol and upper case\n",
    "        print('dd')\n",
    "        if (contains_symbol > 0 or upper_case > 0) and (contains_symbol >  0 or upper_case >0):\n",
    "            print('ss')\n",
    "            if length == \"M\":\n",
    "                rank = MODERATE\n",
    "            else:\n",
    "                rank = POOR\n",
    "        else:\n",
    "            print('here')\n",
    "            rank = POOR\n",
    "    elif contains_symbol>= 1 and upper_case >=1 : # has symbol and upper case might contain lower case and number\n",
    "        if lower_case == 0 or contains_number == 0:\n",
    "            if length == \"M\":\n",
    "                rank = MODERATE\n",
    "            else:\n",
    "                rank = POOR\n",
    "    else:\n",
    "        rank = POOR \n",
    "    ## End code here\n",
    "    return rank"
   ]
  },
  {
   "cell_type": "code",
   "execution_count": 146,
   "metadata": {},
   "outputs": [],
   "source": [
    "def rank2(pwd: str) -> str:\n",
    "    '''\n",
    "    Ranker function that ranks the password based on the assigned criteria\n",
    "    Input: pwd -> character or string\n",
    "    Returns: rank -> rank of password; POOR / MODERATE / STRONG\n",
    "    '''\n",
    "    ## Start code here\n",
    "\n",
    "    STRONG = \"STRONG\"\n",
    "    MODERATE= \"MODERATE\"\n",
    "    POOR = \"POOR\"\n",
    "\n",
    "    symbols = (\"!\", \"+\", \"-\", \"=\", \"?\", \"#\", \"%\", \"*\", \"@\", \"&\", \"^\", \"$\", \"'\")\n",
    "    rank=\"\"\n",
    "\n",
    "    length = \"\"\n",
    "\n",
    "    if len(pwd) > 10 :\n",
    "        length = \"S\"\n",
    "    elif len(pwd) > 8 and len(pwd) <= 10:\n",
    "        length = \"M\"\n",
    "    else:\n",
    "        length =\"P\"\n",
    "\n",
    "    contains_number = [character.isdigit() for character in pwd]\n",
    "    contains_symbol = [character in symbols for character in pwd]\n",
    "    lower_case = [string.ascii_lowercase.__contains__(character) for character in pwd]\n",
    "    upper_case = [string.ascii_uppercase.__contains__(character) for character in pwd]  \n",
    "\n",
    "    # pwd has -> lowecase, uppercase, number, symbol\n",
    "    if any(lower_case) and any(upper_case) and any(contains_number) and any(contains_symbol):\n",
    "        if length == \"S\":\n",
    "            rank = STRONG\n",
    "        elif length == \"M\":\n",
    "            rank = MODERATE\n",
    "        else:\n",
    "            rank = POOR\n",
    "    \n",
    "    # pwd has -> (lowecase only), or (uppercase only ), or (number only), or (symbol only)\n",
    "    if all(lower_case) or all(upper_case) or all(contains_number) or all(contains_symbol):\n",
    "        rank = POOR\n",
    "\n",
    "    # pwd has -> (lowercase, uppercase, number) or (lowercase, uppercase, symbol)\n",
    "    elif any(lower_case) and any(upper_case):\n",
    "        if any(contains_number) or any(contains_symbol):\n",
    "            if length == \"P\":\n",
    "                rank = POOR\n",
    "            else:\n",
    "                rank = MODERATE\n",
    "        else:\n",
    "            rank = POOR\n",
    "    \n",
    "    # pwd has -> (lowercase, number, uppercase) or (lowercase,number,symbol)\n",
    "    elif any(lower_case) and any(contains_number):\n",
    "        if any(upper_case) or any(contains_symbol):\n",
    "            if length == \"P\":\n",
    "                rank = POOR\n",
    "            else:\n",
    "                rank = MODERATE\n",
    "        else:\n",
    "            rank = POOR\n",
    "    \n",
    "    # pwd has -> (lowecase,symbol,uppercase) or (lowercase,symbol,number)\n",
    "    elif any(lower_case) and any(contains_symbol):\n",
    "        if any(upper_case) or any(contains_number):\n",
    "            if length == \"P\":\n",
    "                rank = POOR\n",
    "            else:\n",
    "                rank = MODERATE\n",
    "        else:\n",
    "            rank = POOR\n",
    "    \n",
    "    # pwd has -> (uppercase,number,lowercase) or (uppercase,number,symbol)\n",
    "    elif any(upper_case) and any(contains_number):\n",
    "        if any(lower_case) or any(contains_symbol):\n",
    "            if length == \"P\":\n",
    "                rank = POOR\n",
    "            else:\n",
    "                rank = MODERATE\n",
    "        else:\n",
    "            rank = POOR\n",
    "    \n",
    "    # pwd has -> (uppercase,symbol,lowercase) or (uppercase,symbol,number)\n",
    "    elif any(upper_case) and any(contains_symbol):\n",
    "        if any(lower_case) or any(contains_number):\n",
    "            if length == \"P\":\n",
    "                rank = POOR\n",
    "            else:\n",
    "                rank = MODERATE\n",
    "        else:\n",
    "            rank = POOR\n",
    "    \n",
    "    # pwd has -> (number,symbol,lowercase) or (number,symbol,uppercase)\n",
    "    elif any(contains_number) and any(contains_symbol):\n",
    "        if any(lower_case) or any(upper_case):\n",
    "            if length == \"P\":\n",
    "                rank = POOR\n",
    "            else:\n",
    "                rank = MODERATE\n",
    "        else:\n",
    "            rank = POOR\n",
    "\n",
    "    ## End code here\n",
    "    return rank"
   ]
  },
  {
   "cell_type": "code",
   "execution_count": 147,
   "metadata": {},
   "outputs": [
    {
     "data": {
      "text/plain": [
       "'POOR'"
      ]
     },
     "execution_count": 147,
     "metadata": {},
     "output_type": "execute_result"
    }
   ],
   "source": [
    "rank2('ESVJTQ')"
   ]
  },
  {
   "cell_type": "code",
   "execution_count": 111,
   "metadata": {},
   "outputs": [
    {
     "data": {
      "text/plain": [
       "'STRONG'"
      ]
     },
     "execution_count": 111,
     "metadata": {},
     "output_type": "execute_result"
    }
   ],
   "source": [
    "rank2('qwQ2eeee3@2')"
   ]
  },
  {
   "cell_type": "code",
   "execution_count": 44,
   "metadata": {},
   "outputs": [
    {
     "name": "stdout",
     "output_type": "stream",
     "text": [
      "w\n",
      "5\n",
      "5\n",
      "a\n",
      "u\n",
      "4\n",
      "3\n",
      "w\n",
      "u\n"
     ]
    }
   ],
   "source": [
    "character = 'w55au43wu'\n",
    "symbols = (\"!\", \"+\", \"-\", \"=\", \"?\", \"#\", \"%\", \"*\", \"@\", \"&\", \"^\", \"$\", \"'\")\n",
    "for letter in character:\n",
    "    print(letter)\n",
    "    if letter in symbols:\n",
    "        print(\"yep\")"
   ]
  },
  {
   "cell_type": "code",
   "execution_count": 126,
   "metadata": {},
   "outputs": [
    {
     "name": "stdout",
     "output_type": "stream",
     "text": [
      "MODERATE\n",
      "POOR\n"
     ]
    }
   ],
   "source": [
    "# password = 'IELyZR@shM'\n",
    "password= ['IELyZR@shM','ESVJTQ']\n",
    "for items in password:\n",
    "    print(rank(items))"
   ]
  },
  {
   "cell_type": "markdown",
   "metadata": {},
   "source": [
    "## Steps to follow for first option:\n",
    "1. Ask user to rank password from either Users-Pwds.txt or a custom file (second part for bonus only you can skip this)\n",
    "2. Open the file containing username and password in each line and a file to store the ranked password information(Users-Pwds-Chked.txt).\n",
    "2. <b> !IMPORTANT Store the list of username,passwords in a variable called usrpwds. </b>\n",
    "3. Use the rank() function to rank the password\n",
    "4. Write to the Users-Pwds-Chked.txt file (username,password,rank) in each line as string. Omit the brackets and only fill up the actual values. \n",
    "5. Close necessary files and print to terminal."
   ]
  },
  {
   "cell_type": "code",
   "execution_count": 121,
   "metadata": {},
   "outputs": [],
   "source": [
    "def option1():\n",
    "    '''\n",
    "    Helper function that will be executed when user selects option 1 in the initial case.\n",
    "    '''\n",
    "    # Hint: See the steps above and formulate them in code.\n",
    "    ## START CODE HERE\n",
    "    filePath = input(\"Enter the path to your file: \")\n",
    "    leneee=[]\n",
    "    try:\n",
    "        usrpwds = open(filePath,\"r\").readlines()\n",
    "        with open('Users-Pwds-Chked.txt','w') as info:\n",
    "            for items in usrpwds:\n",
    "                leneee = items.split(',')\n",
    "                rank_password = rank(leneee[1])\n",
    "                info.write(','.join((leneee[0],str(rank_password),leneee[1])))\n",
    "            \n",
    "            info.write('\\n')\n",
    "            \n",
    "    except Exception as e:\n",
    "        print('Could not complete action ', str(e))\n",
    "        return False\n",
    "    print(f\"Number of passwords checked:{len(usrpwds)}\")\n",
    "    print(f\"The given rankings can be found in Users-Pwds-Chked.txt\")\n",
    "    \n",
    "    ## END CODE HERE\n",
    "\n",
    "    \n",
    "    # [INFO] Be sure to change userpwds with the name of variable that you give to the list of passwords\n",
    "    # print('[INFO] '+'Number of passwords checked:',str(len(usrpwds))) \n",
    "    # print('[INFO] '+'The given rankings can be found in Users-Pwds-Chked.txt')\n",
    "    # print('#'*80)"
   ]
  },
  {
   "cell_type": "markdown",
   "metadata": {},
   "source": [
    "## Steps to follow for second option:\n",
    "1. Prompt the user for a username (No more the 20 characters in length).\n",
    "2. Create a Function that will have no (zero) arguments. (generate)\n",
    "3. The Function will randomly generate a STRONG password (Meeting the STRONG Requirments).\n",
    "4. Ask the user if they would like this saved (Y or N).\n",
    "5. If Y: Open the Input file (Users-Pwds.txt) and append the username,password to the EOF.\n",
    "6. If N: Ask if they would like to generate a different password for this user (Y or N).\n",
    "7. Then the program loops back to the menu again offering displaying and offering to select 1, 2 or 3."
   ]
  },
  {
   "cell_type": "code",
   "execution_count": 28,
   "metadata": {},
   "outputs": [],
   "source": [
    "import random\n",
    "def option2():\n",
    "    '''\n",
    "    Function to be executed when the user selects option 2 (generate password) in the main loop.\n",
    "    '''\n",
    "\n",
    "    def generate() -> str:\n",
    "        '''\n",
    "        Helper function to generate password.\n",
    "        Returns: A string pwd with strong ranking in our ranking system.\n",
    "        '''\n",
    "        # Starter code, Ualphabets contains all upper case alphabets\n",
    "        # Lalphabets condains all lowercase alphabets\n",
    "        # chars contains all special characters and digits contains all numeric digits\n",
    "        Ualphabets = string.ascii_uppercase\n",
    "        Lalphabets = string.ascii_lowercase\n",
    "        chars = string.punctuation\n",
    "        digits = string.digits\n",
    "        pwd = []\n",
    "        # Hint: user random.choice to select a random Upperalphabet(Ualphabet), Lalphabet, chars, and digits. Join then all together in pwd and check ranking\n",
    "        # While the required ranking is not met continue joining new Ualphabet, Lalphabet, chars and digits.\n",
    "        \n",
    "        ## START CODE HERE\n",
    "\n",
    "        characterList = Ualphabets+Lalphabets+chars+digits\n",
    "        for _ in range(11):\n",
    "            pwd.append(random.choice(characterList))\n",
    "        \n",
    "        ## END CODE HERE\n",
    "\n",
    "        return \"\".join(pwd)\n",
    "    \n",
    "    # Ask for username and check 20 character limits\n",
    "\n",
    "    ## START CODE HERE\n",
    "    user_name = input(\"Enter your name:\")\n",
    "    if len(user_name)>20:\n",
    "        user_name = input(\"Enter your name: \")\n",
    "\n",
    "\n",
    "    ## END CODE HERE\n",
    "\n",
    "    # Generate the password using generate() and follow the steps as guided in the function header. \n",
    "\n",
    "    ## START CODE HERE\n",
    "\n",
    "    while True:\n",
    "        user_password = generate()\n",
    "        print(f'Here is the auto generated password: {user_password}.')\n",
    "        user_confirmation = input('Do you want to save it: y/n')\n",
    "        if user_confirmation.lower() == \"y\":\n",
    "            file = open(\"User-Pwd.txt\",\"w\")\n",
    "            file.write(\",\".join((user_name.strip(),user_password)))\n",
    "            break\n",
    "        elif user_confirmation.lower() == \"n\":\n",
    "            pass\n",
    "        \n",
    "\n",
    "\n",
    "    ## END CODE HERE"
   ]
  },
  {
   "cell_type": "code",
   "execution_count": 29,
   "metadata": {},
   "outputs": [
    {
     "name": "stdout",
     "output_type": "stream",
     "text": [
      "Here is the auto generated password: M}6\\fdEel=V.\n",
      "Here is the auto generated password: })a!SNDIpIR.\n"
     ]
    }
   ],
   "source": [
    "option2()\n"
   ]
  },
  {
   "cell_type": "markdown",
   "metadata": {},
   "source": [
    "### Now you will write the main function to integrate all the code that you have written above"
   ]
  },
  {
   "cell_type": "code",
   "execution_count": 30,
   "metadata": {},
   "outputs": [],
   "source": [
    "def main():\n",
    "\n",
    "    print('Welcome to my password ranking program')\n",
    "    while True:\n",
    "        print('-'*40)\n",
    "        print('Please select one of 3 options')\n",
    "        print('option1. Rank password from an existing file \\t option2. Generate a strong password \\noption3. exit the program')\n",
    "        inp = int(input(\"Enter your option here:\"))\n",
    "        \n",
    "        # try converting the inp to integer form and then check condition if input was either option1, 2, 3 or something else. \n",
    "        # exit the loop by using the break command if the user selects 3 other wise use option1() and option 2() function \n",
    "\n",
    "        ## START CODE HERE\n",
    "        if inp== 1 :\n",
    "            option1()\n",
    "        elif inp == 2:\n",
    "            option2()\n",
    "        elif inp == 3:\n",
    "            print(\"This program is courtesy of: Anurupa \")\n",
    "            break\n",
    "        else:\n",
    "            print(\"Please enter the right option\")\n",
    "        print('-'*40)\n",
    "\n",
    "        ## END CODE HERE"
   ]
  },
  {
   "cell_type": "code",
   "execution_count": 31,
   "metadata": {},
   "outputs": [
    {
     "name": "stdout",
     "output_type": "stream",
     "text": [
      "Welcome to my password ranking program\n",
      "----------------------------------------\n",
      "Please select one of 3 options\n",
      "option1. Rank password from an existing file \t option2. Generate a strong password \n",
      "option3. exit the program\n"
     ]
    },
    {
     "ename": "NameError",
     "evalue": "name 'option1' is not defined",
     "output_type": "error",
     "traceback": [
      "\u001b[0;31m---------------------------------------------------------------------------\u001b[0m",
      "\u001b[0;31mNameError\u001b[0m                                 Traceback (most recent call last)",
      "Cell \u001b[0;32mIn [31], line 2\u001b[0m\n\u001b[1;32m      1\u001b[0m \u001b[39m# to test your code run the following\u001b[39;00m\n\u001b[0;32m----> 2\u001b[0m main()\n",
      "Cell \u001b[0;32mIn [30], line 15\u001b[0m, in \u001b[0;36mmain\u001b[0;34m()\u001b[0m\n\u001b[1;32m     10\u001b[0m \u001b[39m# try converting the inp to integer form and then check condition if input was either option1, 2, 3 or something else. \u001b[39;00m\n\u001b[1;32m     11\u001b[0m \u001b[39m# exit the loop by using the break command if the user selects 3 other wise use option1() and option 2() function \u001b[39;00m\n\u001b[1;32m     12\u001b[0m \n\u001b[1;32m     13\u001b[0m \u001b[39m## START CODE HERE\u001b[39;00m\n\u001b[1;32m     14\u001b[0m \u001b[39mif\u001b[39;00m inp\u001b[39m==\u001b[39m \u001b[39m1\u001b[39m :\n\u001b[0;32m---> 15\u001b[0m     option1()\n\u001b[1;32m     16\u001b[0m \u001b[39melif\u001b[39;00m inp \u001b[39m==\u001b[39m \u001b[39m2\u001b[39m:\n\u001b[1;32m     17\u001b[0m     option2()\n",
      "\u001b[0;31mNameError\u001b[0m: name 'option1' is not defined"
     ]
    }
   ],
   "source": [
    "# to test your code run the following\n",
    "main()"
   ]
  },
  {
   "cell_type": "code",
   "execution_count": null,
   "metadata": {},
   "outputs": [],
   "source": []
  }
 ],
 "metadata": {
  "kernelspec": {
   "display_name": "Python 3.9.15 ('bootcamp')",
   "language": "python",
   "name": "python3"
  },
  "language_info": {
   "codemirror_mode": {
    "name": "ipython",
    "version": 3
   },
   "file_extension": ".py",
   "mimetype": "text/x-python",
   "name": "python",
   "nbconvert_exporter": "python",
   "pygments_lexer": "ipython3",
   "version": "3.9.15"
  },
  "orig_nbformat": 4,
  "vscode": {
   "interpreter": {
    "hash": "a839d25c5df3809ab0034891316954c3b692648de32d8983029c9955fa7600aa"
   }
  }
 },
 "nbformat": 4,
 "nbformat_minor": 2
}
