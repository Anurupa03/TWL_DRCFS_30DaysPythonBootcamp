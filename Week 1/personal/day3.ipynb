{
 "cells": [
  {
   "cell_type": "markdown",
   "metadata": {},
   "source": [
    "### Guessing Game\n",
    "\n",
    "1. Generate a random number\n",
    "2. Create a loop -> guess up to 3 guess\n",
    "    1. Take input from user -> int\n",
    "    2. Compare number:\n",
    "        lower -> \"The number is lower\" -> run loop \n",
    "        Greater -> \"The number is greater\" -> run loop \n",
    "        exactly same -> end the game\n"
   ]
  },
  {
   "cell_type": "code",
   "execution_count": 2,
   "metadata": {},
   "outputs": [
    {
     "name": "stdout",
     "output_type": "stream",
     "text": [
      "7\n",
      "**************************************************\n",
      "Your guess is less than correct guess 1 tries\n",
      "**************************************************\n",
      "**************************************************\n",
      "Your guess is less than correct guess 2 tries\n",
      "**************************************************\n",
      "**************************************************\n",
      "Your guess is less than correct guess 3 tries\n",
      "**************************************************\n",
      "**************************************************\n",
      "Your guess is less than correct guess 4 tries\n",
      "**************************************************\n",
      "**************************************************\n",
      "Your guess is less than correct guess 5 tries\n",
      "**************************************************\n",
      "You are a bad guesser\n"
     ]
    }
   ],
   "source": [
    "import random\n",
    "\n",
    "randNumber = random.randint(1,10)\n",
    "print (randNumber)\n",
    "\n",
    "# control + ] = indent \n",
    "\n",
    "for i in range(5):\n",
    "    guess = int(input(\"Enter your guess number: \"))\n",
    "    if guess == randNumber:\n",
    "        print(\"*\"*50)\n",
    "        print(f\"HORRAY!!! You got the correct guess in {i+1} tries\")\n",
    "        print(\"*\"*50)\n",
    "        break\n",
    "    elif guess > randNumber:\n",
    "        print(\"*\"*50)\n",
    "        print(f\"Your guess is greater than correct guess in {i+1} tries\")\n",
    "        print(\"*\"*50)\n",
    "    elif guess < randNumber:\n",
    "        print(\"*\"*50)\n",
    "        print(\"Your guess is less than correct guess {} tries\".format(i+1))\n",
    "        print(\"*\"*50)\n",
    "    if i == 4 :\n",
    "        print(\"You are a bad guesser\")"
   ]
  },
  {
   "cell_type": "code",
   "execution_count": null,
   "metadata": {},
   "outputs": [],
   "source": []
  },
  {
   "cell_type": "code",
   "execution_count": null,
   "metadata": {},
   "outputs": [],
   "source": []
  },
  {
   "cell_type": "code",
   "execution_count": null,
   "metadata": {},
   "outputs": [],
   "source": []
  }
 ],
 "metadata": {
  "kernelspec": {
   "display_name": "Python 3.8.10 64-bit",
   "language": "python",
   "name": "python3"
  },
  "language_info": {
   "codemirror_mode": {
    "name": "ipython",
    "version": 3
   },
   "file_extension": ".py",
   "mimetype": "text/x-python",
   "name": "python",
   "nbconvert_exporter": "python",
   "pygments_lexer": "ipython3",
   "version": "3.10.6"
  },
  "orig_nbformat": 4,
  "vscode": {
   "interpreter": {
    "hash": "916dbcbb3f70747c44a77c7bcd40155683ae19c65e1c03b4aa3499c5328201f1"
   }
  }
 },
 "nbformat": 4,
 "nbformat_minor": 2
}
