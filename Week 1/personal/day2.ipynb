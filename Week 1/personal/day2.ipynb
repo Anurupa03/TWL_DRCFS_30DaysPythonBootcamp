{
 "cells": [
  {
   "cell_type": "markdown",
   "metadata": {},
   "source": [
    "# Control statements\n",
    "\n",
    "For driving license :\n",
    "\n",
    "1. Imput user's age\n",
    "2. Convert user's age to integer\n",
    "3. Check if user is older than 16 years old \n",
    "4. If user is older, show he is eligible"
   ]
  },
  {
   "cell_type": "code",
   "execution_count": 11,
   "metadata": {},
   "outputs": [
    {
     "name": "stdout",
     "output_type": "stream",
     "text": [
      "Eligible\n"
     ]
    }
   ],
   "source": [
    "age_str = input(\"What is your age ?\")\n",
    "\n",
    "age = int(age_str)\n",
    "\n",
    "if (age >= 16):\n",
    "    print(\"Eligible\")\n",
    "else:\n",
    "    print(\"Not eligible\")\n"
   ]
  },
  {
   "cell_type": "code",
   "execution_count": 10,
   "metadata": {},
   "outputs": [
    {
     "name": "stdout",
     "output_type": "stream",
     "text": [
      "Login successful ssss\n"
     ]
    }
   ],
   "source": [
    "# password comparison\n",
    "userName = input(\"Enter your name\")\n",
    "password = input(\"Enter your password\")\n",
    "\n",
    "if userName == \"duck\" and password == \"passw0rd\":\n",
    "    print(\"Login successful\")\n",
    "elif userName == 'Anurupa' or password == 'bald':\n",
    "    print(\"Login successful\",userName)\n",
    "else:\n",
    "    print(\"Login failed\")"
   ]
  },
  {
   "cell_type": "markdown",
   "metadata": {},
   "source": [
    "# Looping statements\n",
    "\n",
    "## Types of looping statements:\n",
    "1. For loop\n",
    "2. While loop \n",
    "\n"
   ]
  },
  {
   "cell_type": "code",
   "execution_count": 16,
   "metadata": {},
   "outputs": [
    {
     "name": "stdout",
     "output_type": "stream",
     "text": [
      "0 is even\n",
      "1 is odd\n",
      "2 is even\n",
      "3 is odd\n",
      "4 is even\n",
      "5 is odd\n",
      "6 is even\n",
      "7 is odd\n",
      "8 is even\n",
      "9 is odd\n"
     ]
    }
   ],
   "source": [
    "# for loop \n",
    "\n",
    "for i in range(0,10):\n",
    "    if i % 2 == 0 :\n",
    "        print(str(i) + ' is even')\n",
    "    else:\n",
    "        print(str(i) + ' is odd')"
   ]
  },
  {
   "cell_type": "code",
   "execution_count": 18,
   "metadata": {},
   "outputs": [
    {
     "name": "stdout",
     "output_type": "stream",
     "text": [
      "10\n",
      "9\n",
      "8\n",
      "7\n",
      "6\n",
      "5\n",
      "4\n",
      "3\n",
      "2\n",
      "1\n"
     ]
    }
   ],
   "source": [
    "for i in range(10,0, -1):\n",
    "    print(i)"
   ]
  },
  {
   "cell_type": "code",
   "execution_count": 19,
   "metadata": {},
   "outputs": [
    {
     "name": "stdout",
     "output_type": "stream",
     "text": [
      "10\t9\t8\t7\t6\t5\t4\t3\t2\t1\t"
     ]
    }
   ],
   "source": [
    "for i in range(10,0, -1):\n",
    "    print(i, end='\\t')"
   ]
  },
  {
   "cell_type": "code",
   "execution_count": 21,
   "metadata": {},
   "outputs": [
    {
     "name": "stdout",
     "output_type": "stream",
     "text": [
      "true\n"
     ]
    }
   ],
   "source": [
    "# ternary\n",
    "print(\"true\" if 1==1 else \"false\")"
   ]
  },
  {
   "cell_type": "code",
   "execution_count": null,
   "metadata": {},
   "outputs": [],
   "source": []
  }
 ],
 "metadata": {
  "kernelspec": {
   "display_name": "Python 3.8.10 64-bit",
   "language": "python",
   "name": "python3"
  },
  "language_info": {
   "codemirror_mode": {
    "name": "ipython",
    "version": 3
   },
   "file_extension": ".py",
   "mimetype": "text/x-python",
   "name": "python",
   "nbconvert_exporter": "python",
   "pygments_lexer": "ipython3",
   "version": "3.8.10"
  },
  "orig_nbformat": 4,
  "vscode": {
   "interpreter": {
    "hash": "916dbcbb3f70747c44a77c7bcd40155683ae19c65e1c03b4aa3499c5328201f1"
   }
  }
 },
 "nbformat": 4,
 "nbformat_minor": 2
}
