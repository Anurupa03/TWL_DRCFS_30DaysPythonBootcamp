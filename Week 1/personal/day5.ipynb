{
 "cells": [
  {
   "cell_type": "markdown",
   "metadata": {},
   "source": [
    "# Dictionary \n",
    "\n",
    "1. This is a key -> value pair\n",
    "2. a key in dictionary can have any data type as its value\n",
    "3. Dictionary is mutable\n",
    "4. Dictionary is really fast\n",
    "5. Same key cannot be used\n"
   ]
  },
  {
   "cell_type": "markdown",
   "metadata": {},
   "source": [
    "# Login system"
   ]
  },
  {
   "cell_type": "code",
   "execution_count": null,
   "metadata": {},
   "outputs": [],
   "source": [
    "# map of userName to password\n",
    "user_pass ={'anurupa':'abc','jungkook':'singer','bts':'army'}\n",
    "print(user_pass)\n",
    "\n",
    "# Accessing a key which does not exist in dict -> None/null\n",
    "# better to use\n",
    "print(user_pass.get('abcd'))\n",
    "\n",
    "# Accessing the valye from dict -> keyError is thrown\n",
    "# print(user_pass['abcd'])\n",
    "print(user_pass['anurupa'])"
   ]
  },
  {
   "cell_type": "code",
   "execution_count": null,
   "metadata": {},
   "outputs": [],
   "source": [
    "# Replacing the value using key \n",
    "user_pass['anurupa'] = 'aanya'\n",
    "print(user_pass.get('anurupa'))\n",
    "print(user_pass)\n",
    "\n",
    "# anurupa bhanne key ko value is assigned to pillow \n",
    "# anurupa key is poped\n",
    "user_pass['pillow'] = user_pass['anurupa']\n",
    "user_pass.pop('anurupa')\n",
    "\n",
    "print(user_pass)\n"
   ]
  },
  {
   "cell_type": "code",
   "execution_count": null,
   "metadata": {},
   "outputs": [],
   "source": [
    "# methods in dictonary \n",
    "\n",
    "#items()\n",
    "# converts each key value pair to a tuple\n",
    "# can be used in loop \n",
    "print(user_pass.items())\n",
    "\n"
   ]
  },
  {
   "cell_type": "code",
   "execution_count": null,
   "metadata": {},
   "outputs": [],
   "source": [
    "# how to get key here? -> tuple ko first element is key \n",
    "# and second element is value\n",
    "for user_tuple in user_pass.items():\n",
    "    print(user_tuple)\n",
    "    print(user_tuple[0],user_tuple[1])"
   ]
  },
  {
   "cell_type": "code",
   "execution_count": null,
   "metadata": {},
   "outputs": [],
   "source": [
    "print(user_pass.values())\n",
    "print(user_pass.keys())"
   ]
  },
  {
   "cell_type": "code",
   "execution_count": null,
   "metadata": {},
   "outputs": [],
   "source": [
    "# add items to the dictionary \n",
    "user_pass['hello']='world'\n",
    "print(user_pass)"
   ]
  },
  {
   "cell_type": "code",
   "execution_count": null,
   "metadata": {},
   "outputs": [],
   "source": []
  },
  {
   "cell_type": "markdown",
   "metadata": {},
   "source": [
    "## Login System \n",
    "\n",
    "1. Input from user, userName and user's password \n",
    "2. search the password in dictionary with user's input \n",
    "3. If password is None, user doesn't exit \n",
    "4. If password matches given by user -> Logged in else -> incorrect password\n"
   ]
  },
  {
   "cell_type": "code",
   "execution_count": null,
   "metadata": {},
   "outputs": [],
   "source": [
    "print(user_pass)\n",
    "userName = input('What is your username? ')\n",
    "input_password = input('What is your password?')\n",
    "\n",
    "real_password = user_pass.get(userName)\n",
    "if real_password is None:\n",
    "    print('User does not exist')\n",
    "elif real_password == input_password:\n",
    "    print('You are logged in')\n",
    "else :\n",
    "    print('Incorrect password')"
   ]
  },
  {
   "cell_type": "code",
   "execution_count": null,
   "metadata": {},
   "outputs": [],
   "source": [
    "user_pass['pillow']='zyan'\n",
    "print(user_pass)"
   ]
  },
  {
   "cell_type": "code",
   "execution_count": null,
   "metadata": {},
   "outputs": [],
   "source": [
    "a = {'abc','def'}\n",
    "b = {'ghi','jkl'}\n",
    "print(a==b)"
   ]
  },
  {
   "cell_type": "code",
   "execution_count": null,
   "metadata": {},
   "outputs": [],
   "source": [
    "# dictionary list tuple can be nested"
   ]
  },
  {
   "cell_type": "code",
   "execution_count": null,
   "metadata": {},
   "outputs": [],
   "source": []
  }
 ],
 "metadata": {
  "kernelspec": {
   "display_name": "Python 3.9.7 ('base')",
   "language": "python",
   "name": "python3"
  },
  "language_info": {
   "codemirror_mode": {
    "name": "ipython",
    "version": 3
   },
   "file_extension": ".py",
   "mimetype": "text/x-python",
   "name": "python",
   "nbconvert_exporter": "python",
   "pygments_lexer": "ipython3",
   "version": "3.9.7"
  },
  "orig_nbformat": 4,
  "vscode": {
   "interpreter": {
    "hash": "8029bae6235ea8d7839677c2ca87c5d2d10dfb3ee18d65b5da55a1f6ceb1337a"
   }
  }
 },
 "nbformat": 4,
 "nbformat_minor": 2
}
